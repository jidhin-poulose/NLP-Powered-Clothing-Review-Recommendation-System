{
  "cells": [
    {
      "cell_type": "markdown",
      "metadata": {
        "id": "bdjcd6J1bvQA"
      },
      "source": [
        "# Assignment 2: Milestone I Natural Language Processing\n",
        "## Task 1. Basic Text Pre-processing\n",
        "#### Student Name: Jidhin Poulose\n",
        "#### Student ID: s4023503\n",
        "\n",
        "\n",
        "Environment: Python 3 and Jupyter notebook\n",
        "\n",
        "Libraries used: please include all the libraries you used in your assignment, e.g.,:\n",
        "* pandas\n",
        "* re\n",
        "* numpy\n",
        "\n",
        "## Introduction\n",
        "You should give a brief information of this assessment task here.\n",
        "\n",
        "<span style=\"color: red\"> Note that this is a sample notebook only. You will need to fill in the proper markdown and code blocks. You might also want to make necessary changes to the structure to meet your own needs. Note also that any generic comments written in this notebook are to be removed and replace with your own words.</span>"
      ]
    },
    {
      "cell_type": "markdown",
      "metadata": {
        "id": "E-fvQBDIbvQD"
      },
      "source": [
        "## Importing libraries"
      ]
    },
    {
      "cell_type": "code",
      "execution_count": null,
      "metadata": {
        "colab": {
          "base_uri": "https://localhost:8080/"
        },
        "id": "7YpUqjtlbvQD",
        "outputId": "cb6f9579-7333-424c-da5d-b999c696cd8f"
      },
      "outputs": [
        {
          "output_type": "stream",
          "name": "stderr",
          "text": [
            "[nltk_data] Downloading package punkt to /root/nltk_data...\n",
            "[nltk_data]   Unzipping tokenizers/punkt.zip.\n"
          ]
        },
        {
          "output_type": "execute_result",
          "data": {
            "text/plain": [
              "True"
            ]
          },
          "metadata": {},
          "execution_count": 2
        }
      ],
      "source": [
        "import nltk\n",
        "nltk.download('punkt')"
      ]
    },
    {
      "cell_type": "code",
      "execution_count": null,
      "metadata": {
        "id": "-Ja7kN0obvQE"
      },
      "outputs": [],
      "source": [
        "# Code to import libraries as you need in this assessment, e.g.,\n",
        "import pandas as pd\n",
        "import numpy as np\n",
        "from nltk import RegexpTokenizer\n",
        "from nltk.tokenize import sent_tokenize\n",
        "from itertools import chain\n",
        "from collections import Counter\n",
        "\n",
        "from nltk.probability import *\n",
        "from itertools import chain\n",
        "\n",
        "import csv"
      ]
    },
    {
      "cell_type": "markdown",
      "metadata": {
        "id": "K_lvmeDnbvQF"
      },
      "source": [
        "### 1.1 Examining and loading data\n",
        "- Examine the data and explain your findings\n",
        "- Load the data into proper data structures and get it ready for processing."
      ]
    },
    {
      "cell_type": "code",
      "execution_count": null,
      "metadata": {
        "id": "KP6Y6Z19bvQF"
      },
      "outputs": [],
      "source": [
        "# Read the csv file\n",
        "data = pd.read_csv('assignment3.csv')"
      ]
    },
    {
      "cell_type": "code",
      "execution_count": null,
      "metadata": {
        "colab": {
          "base_uri": "https://localhost:8080/",
          "height": 571
        },
        "id": "wZHgbOgTbvQF",
        "outputId": "0abd7865-83b5-490b-eaaa-6ecc3f4d988c"
      },
      "outputs": [
        {
          "output_type": "execute_result",
          "data": {
            "text/plain": [
              "   Clothing ID  Age                    Title  \\\n",
              "0         1077   60  Some major design flaws   \n",
              "1         1049   50         My favorite buy!   \n",
              "2          847   47         Flattering shirt   \n",
              "3         1080   49  Not for the very petite   \n",
              "4          858   39     Cagrcoal shimmer fun   \n",
              "\n",
              "                                         Review Text  Rating  Recommended IND  \\\n",
              "0  I had such high hopes for this dress and reall...       3                0   \n",
              "1  I love, love, love this jumpsuit. it's fun, fl...       5                1   \n",
              "2  This shirt is very flattering to all due to th...       5                1   \n",
              "3  I love tracy reese dresses, but this one is no...       2                0   \n",
              "4  I aded this in my basket at hte last mintue to...       5                1   \n",
              "\n",
              "   Positive Feedback Count   Division Name Department Name Class Name  \n",
              "0                        0         General         Dresses    Dresses  \n",
              "1                        0  General Petite         Bottoms      Pants  \n",
              "2                        6         General            Tops    Blouses  \n",
              "3                        4         General         Dresses    Dresses  \n",
              "4                        1  General Petite            Tops      Knits  "
            ],
            "text/html": [
              "\n",
              "  <div id=\"df-cdc36096-6302-4849-aabf-b565ffa231be\" class=\"colab-df-container\">\n",
              "    <div>\n",
              "<style scoped>\n",
              "    .dataframe tbody tr th:only-of-type {\n",
              "        vertical-align: middle;\n",
              "    }\n",
              "\n",
              "    .dataframe tbody tr th {\n",
              "        vertical-align: top;\n",
              "    }\n",
              "\n",
              "    .dataframe thead th {\n",
              "        text-align: right;\n",
              "    }\n",
              "</style>\n",
              "<table border=\"1\" class=\"dataframe\">\n",
              "  <thead>\n",
              "    <tr style=\"text-align: right;\">\n",
              "      <th></th>\n",
              "      <th>Clothing ID</th>\n",
              "      <th>Age</th>\n",
              "      <th>Title</th>\n",
              "      <th>Review Text</th>\n",
              "      <th>Rating</th>\n",
              "      <th>Recommended IND</th>\n",
              "      <th>Positive Feedback Count</th>\n",
              "      <th>Division Name</th>\n",
              "      <th>Department Name</th>\n",
              "      <th>Class Name</th>\n",
              "    </tr>\n",
              "  </thead>\n",
              "  <tbody>\n",
              "    <tr>\n",
              "      <th>0</th>\n",
              "      <td>1077</td>\n",
              "      <td>60</td>\n",
              "      <td>Some major design flaws</td>\n",
              "      <td>I had such high hopes for this dress and reall...</td>\n",
              "      <td>3</td>\n",
              "      <td>0</td>\n",
              "      <td>0</td>\n",
              "      <td>General</td>\n",
              "      <td>Dresses</td>\n",
              "      <td>Dresses</td>\n",
              "    </tr>\n",
              "    <tr>\n",
              "      <th>1</th>\n",
              "      <td>1049</td>\n",
              "      <td>50</td>\n",
              "      <td>My favorite buy!</td>\n",
              "      <td>I love, love, love this jumpsuit. it's fun, fl...</td>\n",
              "      <td>5</td>\n",
              "      <td>1</td>\n",
              "      <td>0</td>\n",
              "      <td>General Petite</td>\n",
              "      <td>Bottoms</td>\n",
              "      <td>Pants</td>\n",
              "    </tr>\n",
              "    <tr>\n",
              "      <th>2</th>\n",
              "      <td>847</td>\n",
              "      <td>47</td>\n",
              "      <td>Flattering shirt</td>\n",
              "      <td>This shirt is very flattering to all due to th...</td>\n",
              "      <td>5</td>\n",
              "      <td>1</td>\n",
              "      <td>6</td>\n",
              "      <td>General</td>\n",
              "      <td>Tops</td>\n",
              "      <td>Blouses</td>\n",
              "    </tr>\n",
              "    <tr>\n",
              "      <th>3</th>\n",
              "      <td>1080</td>\n",
              "      <td>49</td>\n",
              "      <td>Not for the very petite</td>\n",
              "      <td>I love tracy reese dresses, but this one is no...</td>\n",
              "      <td>2</td>\n",
              "      <td>0</td>\n",
              "      <td>4</td>\n",
              "      <td>General</td>\n",
              "      <td>Dresses</td>\n",
              "      <td>Dresses</td>\n",
              "    </tr>\n",
              "    <tr>\n",
              "      <th>4</th>\n",
              "      <td>858</td>\n",
              "      <td>39</td>\n",
              "      <td>Cagrcoal shimmer fun</td>\n",
              "      <td>I aded this in my basket at hte last mintue to...</td>\n",
              "      <td>5</td>\n",
              "      <td>1</td>\n",
              "      <td>1</td>\n",
              "      <td>General Petite</td>\n",
              "      <td>Tops</td>\n",
              "      <td>Knits</td>\n",
              "    </tr>\n",
              "  </tbody>\n",
              "</table>\n",
              "</div>\n",
              "    <div class=\"colab-df-buttons\">\n",
              "\n",
              "  <div class=\"colab-df-container\">\n",
              "    <button class=\"colab-df-convert\" onclick=\"convertToInteractive('df-cdc36096-6302-4849-aabf-b565ffa231be')\"\n",
              "            title=\"Convert this dataframe to an interactive table.\"\n",
              "            style=\"display:none;\">\n",
              "\n",
              "  <svg xmlns=\"http://www.w3.org/2000/svg\" height=\"24px\" viewBox=\"0 -960 960 960\">\n",
              "    <path d=\"M120-120v-720h720v720H120Zm60-500h600v-160H180v160Zm220 220h160v-160H400v160Zm0 220h160v-160H400v160ZM180-400h160v-160H180v160Zm440 0h160v-160H620v160ZM180-180h160v-160H180v160Zm440 0h160v-160H620v160Z\"/>\n",
              "  </svg>\n",
              "    </button>\n",
              "\n",
              "  <style>\n",
              "    .colab-df-container {\n",
              "      display:flex;\n",
              "      gap: 12px;\n",
              "    }\n",
              "\n",
              "    .colab-df-convert {\n",
              "      background-color: #E8F0FE;\n",
              "      border: none;\n",
              "      border-radius: 50%;\n",
              "      cursor: pointer;\n",
              "      display: none;\n",
              "      fill: #1967D2;\n",
              "      height: 32px;\n",
              "      padding: 0 0 0 0;\n",
              "      width: 32px;\n",
              "    }\n",
              "\n",
              "    .colab-df-convert:hover {\n",
              "      background-color: #E2EBFA;\n",
              "      box-shadow: 0px 1px 2px rgba(60, 64, 67, 0.3), 0px 1px 3px 1px rgba(60, 64, 67, 0.15);\n",
              "      fill: #174EA6;\n",
              "    }\n",
              "\n",
              "    .colab-df-buttons div {\n",
              "      margin-bottom: 4px;\n",
              "    }\n",
              "\n",
              "    [theme=dark] .colab-df-convert {\n",
              "      background-color: #3B4455;\n",
              "      fill: #D2E3FC;\n",
              "    }\n",
              "\n",
              "    [theme=dark] .colab-df-convert:hover {\n",
              "      background-color: #434B5C;\n",
              "      box-shadow: 0px 1px 3px 1px rgba(0, 0, 0, 0.15);\n",
              "      filter: drop-shadow(0px 1px 2px rgba(0, 0, 0, 0.3));\n",
              "      fill: #FFFFFF;\n",
              "    }\n",
              "  </style>\n",
              "\n",
              "    <script>\n",
              "      const buttonEl =\n",
              "        document.querySelector('#df-cdc36096-6302-4849-aabf-b565ffa231be button.colab-df-convert');\n",
              "      buttonEl.style.display =\n",
              "        google.colab.kernel.accessAllowed ? 'block' : 'none';\n",
              "\n",
              "      async function convertToInteractive(key) {\n",
              "        const element = document.querySelector('#df-cdc36096-6302-4849-aabf-b565ffa231be');\n",
              "        const dataTable =\n",
              "          await google.colab.kernel.invokeFunction('convertToInteractive',\n",
              "                                                    [key], {});\n",
              "        if (!dataTable) return;\n",
              "\n",
              "        const docLinkHtml = 'Like what you see? Visit the ' +\n",
              "          '<a target=\"_blank\" href=https://colab.research.google.com/notebooks/data_table.ipynb>data table notebook</a>'\n",
              "          + ' to learn more about interactive tables.';\n",
              "        element.innerHTML = '';\n",
              "        dataTable['output_type'] = 'display_data';\n",
              "        await google.colab.output.renderOutput(dataTable, element);\n",
              "        const docLink = document.createElement('div');\n",
              "        docLink.innerHTML = docLinkHtml;\n",
              "        element.appendChild(docLink);\n",
              "      }\n",
              "    </script>\n",
              "  </div>\n",
              "\n",
              "\n",
              "<div id=\"df-f8d42aaa-78e5-4418-a076-d46cc940c53c\">\n",
              "  <button class=\"colab-df-quickchart\" onclick=\"quickchart('df-f8d42aaa-78e5-4418-a076-d46cc940c53c')\"\n",
              "            title=\"Suggest charts\"\n",
              "            style=\"display:none;\">\n",
              "\n",
              "<svg xmlns=\"http://www.w3.org/2000/svg\" height=\"24px\"viewBox=\"0 0 24 24\"\n",
              "     width=\"24px\">\n",
              "    <g>\n",
              "        <path d=\"M19 3H5c-1.1 0-2 .9-2 2v14c0 1.1.9 2 2 2h14c1.1 0 2-.9 2-2V5c0-1.1-.9-2-2-2zM9 17H7v-7h2v7zm4 0h-2V7h2v10zm4 0h-2v-4h2v4z\"/>\n",
              "    </g>\n",
              "</svg>\n",
              "  </button>\n",
              "\n",
              "<style>\n",
              "  .colab-df-quickchart {\n",
              "      --bg-color: #E8F0FE;\n",
              "      --fill-color: #1967D2;\n",
              "      --hover-bg-color: #E2EBFA;\n",
              "      --hover-fill-color: #174EA6;\n",
              "      --disabled-fill-color: #AAA;\n",
              "      --disabled-bg-color: #DDD;\n",
              "  }\n",
              "\n",
              "  [theme=dark] .colab-df-quickchart {\n",
              "      --bg-color: #3B4455;\n",
              "      --fill-color: #D2E3FC;\n",
              "      --hover-bg-color: #434B5C;\n",
              "      --hover-fill-color: #FFFFFF;\n",
              "      --disabled-bg-color: #3B4455;\n",
              "      --disabled-fill-color: #666;\n",
              "  }\n",
              "\n",
              "  .colab-df-quickchart {\n",
              "    background-color: var(--bg-color);\n",
              "    border: none;\n",
              "    border-radius: 50%;\n",
              "    cursor: pointer;\n",
              "    display: none;\n",
              "    fill: var(--fill-color);\n",
              "    height: 32px;\n",
              "    padding: 0;\n",
              "    width: 32px;\n",
              "  }\n",
              "\n",
              "  .colab-df-quickchart:hover {\n",
              "    background-color: var(--hover-bg-color);\n",
              "    box-shadow: 0 1px 2px rgba(60, 64, 67, 0.3), 0 1px 3px 1px rgba(60, 64, 67, 0.15);\n",
              "    fill: var(--button-hover-fill-color);\n",
              "  }\n",
              "\n",
              "  .colab-df-quickchart-complete:disabled,\n",
              "  .colab-df-quickchart-complete:disabled:hover {\n",
              "    background-color: var(--disabled-bg-color);\n",
              "    fill: var(--disabled-fill-color);\n",
              "    box-shadow: none;\n",
              "  }\n",
              "\n",
              "  .colab-df-spinner {\n",
              "    border: 2px solid var(--fill-color);\n",
              "    border-color: transparent;\n",
              "    border-bottom-color: var(--fill-color);\n",
              "    animation:\n",
              "      spin 1s steps(1) infinite;\n",
              "  }\n",
              "\n",
              "  @keyframes spin {\n",
              "    0% {\n",
              "      border-color: transparent;\n",
              "      border-bottom-color: var(--fill-color);\n",
              "      border-left-color: var(--fill-color);\n",
              "    }\n",
              "    20% {\n",
              "      border-color: transparent;\n",
              "      border-left-color: var(--fill-color);\n",
              "      border-top-color: var(--fill-color);\n",
              "    }\n",
              "    30% {\n",
              "      border-color: transparent;\n",
              "      border-left-color: var(--fill-color);\n",
              "      border-top-color: var(--fill-color);\n",
              "      border-right-color: var(--fill-color);\n",
              "    }\n",
              "    40% {\n",
              "      border-color: transparent;\n",
              "      border-right-color: var(--fill-color);\n",
              "      border-top-color: var(--fill-color);\n",
              "    }\n",
              "    60% {\n",
              "      border-color: transparent;\n",
              "      border-right-color: var(--fill-color);\n",
              "    }\n",
              "    80% {\n",
              "      border-color: transparent;\n",
              "      border-right-color: var(--fill-color);\n",
              "      border-bottom-color: var(--fill-color);\n",
              "    }\n",
              "    90% {\n",
              "      border-color: transparent;\n",
              "      border-bottom-color: var(--fill-color);\n",
              "    }\n",
              "  }\n",
              "</style>\n",
              "\n",
              "  <script>\n",
              "    async function quickchart(key) {\n",
              "      const quickchartButtonEl =\n",
              "        document.querySelector('#' + key + ' button');\n",
              "      quickchartButtonEl.disabled = true;  // To prevent multiple clicks.\n",
              "      quickchartButtonEl.classList.add('colab-df-spinner');\n",
              "      try {\n",
              "        const charts = await google.colab.kernel.invokeFunction(\n",
              "            'suggestCharts', [key], {});\n",
              "      } catch (error) {\n",
              "        console.error('Error during call to suggestCharts:', error);\n",
              "      }\n",
              "      quickchartButtonEl.classList.remove('colab-df-spinner');\n",
              "      quickchartButtonEl.classList.add('colab-df-quickchart-complete');\n",
              "    }\n",
              "    (() => {\n",
              "      let quickchartButtonEl =\n",
              "        document.querySelector('#df-f8d42aaa-78e5-4418-a076-d46cc940c53c button');\n",
              "      quickchartButtonEl.style.display =\n",
              "        google.colab.kernel.accessAllowed ? 'block' : 'none';\n",
              "    })();\n",
              "  </script>\n",
              "</div>\n",
              "\n",
              "    </div>\n",
              "  </div>\n"
            ],
            "application/vnd.google.colaboratory.intrinsic+json": {
              "type": "dataframe",
              "variable_name": "data",
              "summary": "{\n  \"name\": \"data\",\n  \"rows\": 19662,\n  \"fields\": [\n    {\n      \"column\": \"Clothing ID\",\n      \"properties\": {\n        \"dtype\": \"number\",\n        \"std\": 200,\n        \"min\": 1,\n        \"max\": 1205,\n        \"num_unique_values\": 1095,\n        \"samples\": [\n          1151,\n          1099,\n          204\n        ],\n        \"semantic_type\": \"\",\n        \"description\": \"\"\n      }\n    },\n    {\n      \"column\": \"Age\",\n      \"properties\": {\n        \"dtype\": \"number\",\n        \"std\": 12,\n        \"min\": 18,\n        \"max\": 99,\n        \"num_unique_values\": 77,\n        \"samples\": [\n          39,\n          83,\n          32\n        ],\n        \"semantic_type\": \"\",\n        \"description\": \"\"\n      }\n    },\n    {\n      \"column\": \"Title\",\n      \"properties\": {\n        \"dtype\": \"string\",\n        \"num_unique_values\": 13983,\n        \"samples\": [\n          \"Can't miss classic!!\",\n          \"Fun and unusial\",\n          \"Fantastic sweater\"\n        ],\n        \"semantic_type\": \"\",\n        \"description\": \"\"\n      }\n    },\n    {\n      \"column\": \"Review Text\",\n      \"properties\": {\n        \"dtype\": \"string\",\n        \"num_unique_values\": 19656,\n        \"samples\": [\n          \"I recently bought this dress and wore it once. i really liked it! it was comfy, cute and fit well. but... then i washed it. i followed the washing instructions exactly, but now it looks more like a shirt than a dress and it's completely unwearable. i'm super disappointed because i thought this dress would be a wardrobe staple this summer.\",\n          \"This green sweater is solo pretty . i wanted it from the moment i saw it. pretty layers on the bottom make it so unique!\",\n          \"I tried this jacket on in store, both m & l. both seemed to pull a little at waist/pocket (notice the raised pleat on the closeup. i ordered xl on line. it fits better but still seems to fit like the other two when fastened. snaps seem to be misplaced. on the plus side, the style is cute and there is brown (taupe) mixed in with the grey which is more flattering to brownettes. there isn't much difference in sizing of all three. i am not sure whether this is a keeper. open, it is fine and casual;\"\n        ],\n        \"semantic_type\": \"\",\n        \"description\": \"\"\n      }\n    },\n    {\n      \"column\": \"Rating\",\n      \"properties\": {\n        \"dtype\": \"number\",\n        \"std\": 1,\n        \"min\": 1,\n        \"max\": 5,\n        \"num_unique_values\": 5,\n        \"samples\": [\n          5,\n          1,\n          2\n        ],\n        \"semantic_type\": \"\",\n        \"description\": \"\"\n      }\n    },\n    {\n      \"column\": \"Recommended IND\",\n      \"properties\": {\n        \"dtype\": \"number\",\n        \"std\": 0,\n        \"min\": 0,\n        \"max\": 1,\n        \"num_unique_values\": 2,\n        \"samples\": [\n          1,\n          0\n        ],\n        \"semantic_type\": \"\",\n        \"description\": \"\"\n      }\n    },\n    {\n      \"column\": \"Positive Feedback Count\",\n      \"properties\": {\n        \"dtype\": \"number\",\n        \"std\": 5,\n        \"min\": 0,\n        \"max\": 122,\n        \"num_unique_values\": 79,\n        \"samples\": [\n          37,\n          0\n        ],\n        \"semantic_type\": \"\",\n        \"description\": \"\"\n      }\n    },\n    {\n      \"column\": \"Division Name\",\n      \"properties\": {\n        \"dtype\": \"category\",\n        \"num_unique_values\": 3,\n        \"samples\": [\n          \"General\",\n          \"General Petite\"\n        ],\n        \"semantic_type\": \"\",\n        \"description\": \"\"\n      }\n    },\n    {\n      \"column\": \"Department Name\",\n      \"properties\": {\n        \"dtype\": \"category\",\n        \"num_unique_values\": 6,\n        \"samples\": [\n          \"Dresses\",\n          \"Bottoms\"\n        ],\n        \"semantic_type\": \"\",\n        \"description\": \"\"\n      }\n    },\n    {\n      \"column\": \"Class Name\",\n      \"properties\": {\n        \"dtype\": \"category\",\n        \"num_unique_values\": 20,\n        \"samples\": [\n          \"Dresses\",\n          \"Layering\"\n        ],\n        \"semantic_type\": \"\",\n        \"description\": \"\"\n      }\n    }\n  ]\n}"
            }
          },
          "metadata": {},
          "execution_count": 5
        }
      ],
      "source": [
        "data.head()"
      ]
    },
    {
      "cell_type": "code",
      "execution_count": null,
      "metadata": {
        "colab": {
          "base_uri": "https://localhost:8080/",
          "height": 458
        },
        "id": "11iAyyQtbvQF",
        "outputId": "05844a72-0721-4bac-95ed-8c89c774d009"
      },
      "outputs": [
        {
          "output_type": "execute_result",
          "data": {
            "text/plain": [
              "0        I had such high hopes for this dress and reall...\n",
              "1        I love, love, love this jumpsuit. it's fun, fl...\n",
              "2        This shirt is very flattering to all due to th...\n",
              "3        I love tracy reese dresses, but this one is no...\n",
              "4        I aded this in my basket at hte last mintue to...\n",
              "                               ...                        \n",
              "19657    I was very happy to snag this dress at such a ...\n",
              "19658    It reminds me of maternity clothes. soft, stre...\n",
              "19659    This fit well, but the top was very see throug...\n",
              "19660    I bought this dress for a wedding i have this ...\n",
              "19661    This dress in a lovely platinum is feminine an...\n",
              "Name: Review Text, Length: 19662, dtype: object"
            ],
            "text/html": [
              "<div>\n",
              "<style scoped>\n",
              "    .dataframe tbody tr th:only-of-type {\n",
              "        vertical-align: middle;\n",
              "    }\n",
              "\n",
              "    .dataframe tbody tr th {\n",
              "        vertical-align: top;\n",
              "    }\n",
              "\n",
              "    .dataframe thead th {\n",
              "        text-align: right;\n",
              "    }\n",
              "</style>\n",
              "<table border=\"1\" class=\"dataframe\">\n",
              "  <thead>\n",
              "    <tr style=\"text-align: right;\">\n",
              "      <th></th>\n",
              "      <th>Review Text</th>\n",
              "    </tr>\n",
              "  </thead>\n",
              "  <tbody>\n",
              "    <tr>\n",
              "      <th>0</th>\n",
              "      <td>I had such high hopes for this dress and reall...</td>\n",
              "    </tr>\n",
              "    <tr>\n",
              "      <th>1</th>\n",
              "      <td>I love, love, love this jumpsuit. it's fun, fl...</td>\n",
              "    </tr>\n",
              "    <tr>\n",
              "      <th>2</th>\n",
              "      <td>This shirt is very flattering to all due to th...</td>\n",
              "    </tr>\n",
              "    <tr>\n",
              "      <th>3</th>\n",
              "      <td>I love tracy reese dresses, but this one is no...</td>\n",
              "    </tr>\n",
              "    <tr>\n",
              "      <th>4</th>\n",
              "      <td>I aded this in my basket at hte last mintue to...</td>\n",
              "    </tr>\n",
              "    <tr>\n",
              "      <th>...</th>\n",
              "      <td>...</td>\n",
              "    </tr>\n",
              "    <tr>\n",
              "      <th>19657</th>\n",
              "      <td>I was very happy to snag this dress at such a ...</td>\n",
              "    </tr>\n",
              "    <tr>\n",
              "      <th>19658</th>\n",
              "      <td>It reminds me of maternity clothes. soft, stre...</td>\n",
              "    </tr>\n",
              "    <tr>\n",
              "      <th>19659</th>\n",
              "      <td>This fit well, but the top was very see throug...</td>\n",
              "    </tr>\n",
              "    <tr>\n",
              "      <th>19660</th>\n",
              "      <td>I bought this dress for a wedding i have this ...</td>\n",
              "    </tr>\n",
              "    <tr>\n",
              "      <th>19661</th>\n",
              "      <td>This dress in a lovely platinum is feminine an...</td>\n",
              "    </tr>\n",
              "  </tbody>\n",
              "</table>\n",
              "<p>19662 rows × 1 columns</p>\n",
              "</div><br><label><b>dtype:</b> object</label>"
            ]
          },
          "metadata": {},
          "execution_count": 6
        }
      ],
      "source": [
        "data['Review Text']"
      ]
    },
    {
      "cell_type": "markdown",
      "metadata": {
        "id": "Fzo7yx9QbvQG"
      },
      "source": [
        "### 1.2 Pre-processing data\n",
        "Perform the required text pre-processing steps."
      ]
    },
    {
      "cell_type": "markdown",
      "source": [
        "Function for Tokenization"
      ],
      "metadata": {
        "id": "D5WYTpB5b4nv"
      }
    },
    {
      "cell_type": "code",
      "execution_count": null,
      "metadata": {
        "id": "4ogicR-9bvQG"
      },
      "outputs": [],
      "source": [
        "def tokenizeReview(review):\n",
        "\n",
        "    # segament into sentences\n",
        "    sentences = sent_tokenize(review)\n",
        "\n",
        "    pattern = r\"[a-zA-Z]+(?:[-'][a-zA-Z]+)?\"\n",
        "    # Tokenize using the specified regex\n",
        "    tokenizer = RegexpTokenizer(pattern)\n",
        "    token_lists = [tokenizer.tokenize(sen) for sen in sentences]\n",
        "\n",
        "    # merge them into a list of tokens\n",
        "    tokenised_review = list(chain.from_iterable(token_lists))\n",
        "    return tokenised_review"
      ]
    },
    {
      "cell_type": "markdown",
      "source": [
        "Function to print the stats of the processed reviews"
      ],
      "metadata": {
        "id": "m_MhTD0lb_f_"
      }
    },
    {
      "cell_type": "code",
      "execution_count": null,
      "metadata": {
        "id": "Wg7NzDcKbvQG"
      },
      "outputs": [],
      "source": [
        "def stats_print(tk_reviews):\n",
        "    words = list(chain.from_iterable(tk_reviews)) # we put all the tokens in the corpus in a single list\n",
        "    vocab = set(words) # compute the vocabulary by converting the list of words/tokens to a set, i.e., giving a set of unique words\n",
        "    lexical_diversity = len(vocab)/len(words)\n",
        "    print(\"Vocabulary size: \",len(vocab))\n",
        "    print(\"Total number of tokens: \", len(words))\n",
        "    print(\"Lexical diversity: \", lexical_diversity)\n",
        "    print(\"Total number of reviews:\", len(tk_reviews))\n",
        "    lens = [len(article) for article in tk_reviews]\n",
        "    print(\"Average review length:\", np.mean(lens))\n",
        "    print(\"Maximun review length:\", np.max(lens))\n",
        "    print(\"Minimun review length:\", np.min(lens))\n",
        "    print(\"Standard deviation of review length:\", np.std(lens))"
      ]
    },
    {
      "cell_type": "code",
      "execution_count": null,
      "metadata": {
        "colab": {
          "base_uri": "https://localhost:8080/"
        },
        "id": "ZMl5FURqbvQH",
        "outputId": "ed7c57df-b2e8-4b95-bf00-5af92a0b49ba"
      },
      "outputs": [
        {
          "output_type": "execute_result",
          "data": {
            "text/plain": [
              "19662"
            ]
          },
          "metadata": {},
          "execution_count": 9
        }
      ],
      "source": [
        "len(data['Review Text'])"
      ]
    },
    {
      "cell_type": "code",
      "execution_count": null,
      "metadata": {
        "colab": {
          "base_uri": "https://localhost:8080/",
          "height": 398
        },
        "id": "E0ncj3mZbvQH",
        "outputId": "f700daf2-326a-47e7-a93d-e7fcdf02b8c2"
      },
      "outputs": [
        {
          "output_type": "execute_result",
          "data": {
            "text/plain": [
              "0    I had such high hopes for this dress and reall...\n",
              "1    I love, love, love this jumpsuit. it's fun, fl...\n",
              "2    This shirt is very flattering to all due to th...\n",
              "3    I love tracy reese dresses, but this one is no...\n",
              "4    I aded this in my basket at hte last mintue to...\n",
              "5    I ordered this in carbon for store pick up, an...\n",
              "6    I love this dress. i usually get an xs but it ...\n",
              "7    I'm 5\"5' and 125 lbs. i ordered the s petite t...\n",
              "8    Dress runs small esp where the zipper area run...\n",
              "9    More and more i find myself reliant on the rev...\n",
              "Name: Review Text, dtype: object"
            ],
            "text/html": [
              "<div>\n",
              "<style scoped>\n",
              "    .dataframe tbody tr th:only-of-type {\n",
              "        vertical-align: middle;\n",
              "    }\n",
              "\n",
              "    .dataframe tbody tr th {\n",
              "        vertical-align: top;\n",
              "    }\n",
              "\n",
              "    .dataframe thead th {\n",
              "        text-align: right;\n",
              "    }\n",
              "</style>\n",
              "<table border=\"1\" class=\"dataframe\">\n",
              "  <thead>\n",
              "    <tr style=\"text-align: right;\">\n",
              "      <th></th>\n",
              "      <th>Review Text</th>\n",
              "    </tr>\n",
              "  </thead>\n",
              "  <tbody>\n",
              "    <tr>\n",
              "      <th>0</th>\n",
              "      <td>I had such high hopes for this dress and reall...</td>\n",
              "    </tr>\n",
              "    <tr>\n",
              "      <th>1</th>\n",
              "      <td>I love, love, love this jumpsuit. it's fun, fl...</td>\n",
              "    </tr>\n",
              "    <tr>\n",
              "      <th>2</th>\n",
              "      <td>This shirt is very flattering to all due to th...</td>\n",
              "    </tr>\n",
              "    <tr>\n",
              "      <th>3</th>\n",
              "      <td>I love tracy reese dresses, but this one is no...</td>\n",
              "    </tr>\n",
              "    <tr>\n",
              "      <th>4</th>\n",
              "      <td>I aded this in my basket at hte last mintue to...</td>\n",
              "    </tr>\n",
              "    <tr>\n",
              "      <th>5</th>\n",
              "      <td>I ordered this in carbon for store pick up, an...</td>\n",
              "    </tr>\n",
              "    <tr>\n",
              "      <th>6</th>\n",
              "      <td>I love this dress. i usually get an xs but it ...</td>\n",
              "    </tr>\n",
              "    <tr>\n",
              "      <th>7</th>\n",
              "      <td>I'm 5\"5' and 125 lbs. i ordered the s petite t...</td>\n",
              "    </tr>\n",
              "    <tr>\n",
              "      <th>8</th>\n",
              "      <td>Dress runs small esp where the zipper area run...</td>\n",
              "    </tr>\n",
              "    <tr>\n",
              "      <th>9</th>\n",
              "      <td>More and more i find myself reliant on the rev...</td>\n",
              "    </tr>\n",
              "  </tbody>\n",
              "</table>\n",
              "</div><br><label><b>dtype:</b> object</label>"
            ]
          },
          "metadata": {},
          "execution_count": 10
        }
      ],
      "source": [
        "data['Review Text'].head(10)"
      ]
    },
    {
      "cell_type": "markdown",
      "source": [
        "### **Step 3: Lower case**"
      ],
      "metadata": {
        "id": "2jJ_8xYKcNg4"
      }
    },
    {
      "cell_type": "code",
      "execution_count": null,
      "metadata": {
        "id": "vFd43QdAbvQH"
      },
      "outputs": [],
      "source": [
        "for i in range(len(data['Review Text'])):\n",
        "    data.loc[i, 'Review Text'] = data.loc[i, 'Review Text'].lower()"
      ]
    },
    {
      "cell_type": "code",
      "execution_count": null,
      "metadata": {
        "colab": {
          "base_uri": "https://localhost:8080/",
          "height": 398
        },
        "id": "grYwysjmbvQH",
        "outputId": "10345f94-8074-4325-a5b9-d4fa89884ef0"
      },
      "outputs": [
        {
          "output_type": "execute_result",
          "data": {
            "text/plain": [
              "0    i had such high hopes for this dress and reall...\n",
              "1    i love, love, love this jumpsuit. it's fun, fl...\n",
              "2    this shirt is very flattering to all due to th...\n",
              "3    i love tracy reese dresses, but this one is no...\n",
              "4    i aded this in my basket at hte last mintue to...\n",
              "5    i ordered this in carbon for store pick up, an...\n",
              "6    i love this dress. i usually get an xs but it ...\n",
              "7    i'm 5\"5' and 125 lbs. i ordered the s petite t...\n",
              "8    dress runs small esp where the zipper area run...\n",
              "9    more and more i find myself reliant on the rev...\n",
              "Name: Review Text, dtype: object"
            ],
            "text/html": [
              "<div>\n",
              "<style scoped>\n",
              "    .dataframe tbody tr th:only-of-type {\n",
              "        vertical-align: middle;\n",
              "    }\n",
              "\n",
              "    .dataframe tbody tr th {\n",
              "        vertical-align: top;\n",
              "    }\n",
              "\n",
              "    .dataframe thead th {\n",
              "        text-align: right;\n",
              "    }\n",
              "</style>\n",
              "<table border=\"1\" class=\"dataframe\">\n",
              "  <thead>\n",
              "    <tr style=\"text-align: right;\">\n",
              "      <th></th>\n",
              "      <th>Review Text</th>\n",
              "    </tr>\n",
              "  </thead>\n",
              "  <tbody>\n",
              "    <tr>\n",
              "      <th>0</th>\n",
              "      <td>i had such high hopes for this dress and reall...</td>\n",
              "    </tr>\n",
              "    <tr>\n",
              "      <th>1</th>\n",
              "      <td>i love, love, love this jumpsuit. it's fun, fl...</td>\n",
              "    </tr>\n",
              "    <tr>\n",
              "      <th>2</th>\n",
              "      <td>this shirt is very flattering to all due to th...</td>\n",
              "    </tr>\n",
              "    <tr>\n",
              "      <th>3</th>\n",
              "      <td>i love tracy reese dresses, but this one is no...</td>\n",
              "    </tr>\n",
              "    <tr>\n",
              "      <th>4</th>\n",
              "      <td>i aded this in my basket at hte last mintue to...</td>\n",
              "    </tr>\n",
              "    <tr>\n",
              "      <th>5</th>\n",
              "      <td>i ordered this in carbon for store pick up, an...</td>\n",
              "    </tr>\n",
              "    <tr>\n",
              "      <th>6</th>\n",
              "      <td>i love this dress. i usually get an xs but it ...</td>\n",
              "    </tr>\n",
              "    <tr>\n",
              "      <th>7</th>\n",
              "      <td>i'm 5\"5' and 125 lbs. i ordered the s petite t...</td>\n",
              "    </tr>\n",
              "    <tr>\n",
              "      <th>8</th>\n",
              "      <td>dress runs small esp where the zipper area run...</td>\n",
              "    </tr>\n",
              "    <tr>\n",
              "      <th>9</th>\n",
              "      <td>more and more i find myself reliant on the rev...</td>\n",
              "    </tr>\n",
              "  </tbody>\n",
              "</table>\n",
              "</div><br><label><b>dtype:</b> object</label>"
            ]
          },
          "metadata": {},
          "execution_count": 12
        }
      ],
      "source": [
        "data['Review Text'].head(10)"
      ]
    },
    {
      "cell_type": "markdown",
      "source": [
        "### **Step 2: Tokenization**"
      ],
      "metadata": {
        "id": "27ETwNW1cbH3"
      }
    },
    {
      "cell_type": "code",
      "execution_count": null,
      "metadata": {
        "id": "Yv7fZW8fbvQH"
      },
      "outputs": [],
      "source": [
        "tk_reviews = [tokenizeReview(r) for r in data['Review Text']]"
      ]
    },
    {
      "cell_type": "code",
      "execution_count": null,
      "metadata": {
        "colab": {
          "base_uri": "https://localhost:8080/"
        },
        "id": "fvyTWCj9bvQH",
        "outputId": "091046bf-1b18-4a42-c88b-1fcdcd638435"
      },
      "outputs": [
        {
          "output_type": "stream",
          "name": "stdout",
          "text": [
            "Tokenized review:\n",
            " ['i', 'love', 'love', 'love', 'this', 'jumpsuit', \"it's\", 'fun', 'flirty', 'and', 'fabulous', 'every', 'time', 'i', 'wear', 'it', 'i', 'get', 'nothing', 'but', 'great', 'compliments']\n"
          ]
        }
      ],
      "source": [
        "print(\"Tokenized review:\\n\",tk_reviews[1])"
      ]
    },
    {
      "cell_type": "code",
      "execution_count": null,
      "metadata": {
        "colab": {
          "base_uri": "https://localhost:8080/"
        },
        "id": "SgVxDUsYbvQH",
        "outputId": "c154c7d6-2f2e-4fff-f8c7-384d52940d51"
      },
      "outputs": [
        {
          "output_type": "stream",
          "name": "stdout",
          "text": [
            "Vocabulary size:  14806\n",
            "Total number of tokens:  1206688\n",
            "Lexical diversity:  0.012269948818584423\n",
            "Total number of reviews: 19662\n",
            "Average review length: 61.37157969687723\n",
            "Maximun review length: 113\n",
            "Minimun review length: 2\n",
            "Standard deviation of review length: 27.802596969841698\n"
          ]
        }
      ],
      "source": [
        "stats_print(tk_reviews)"
      ]
    },
    {
      "cell_type": "markdown",
      "source": [
        "### **Step 4: Remove words with a length less than 2.**"
      ],
      "metadata": {
        "id": "93Zv31J1cfD1"
      }
    },
    {
      "cell_type": "code",
      "execution_count": null,
      "metadata": {
        "id": "JkiFwuJ_bvQI"
      },
      "outputs": [],
      "source": [
        "tk_reviews = [[w for w in review if len(w) >=2] for review in tk_reviews]"
      ]
    },
    {
      "cell_type": "code",
      "execution_count": null,
      "metadata": {
        "colab": {
          "base_uri": "https://localhost:8080/"
        },
        "id": "mwy7fEgvbvQI",
        "outputId": "1d6ed7c5-f696-41df-fc4b-76c73864eacf"
      },
      "outputs": [
        {
          "output_type": "stream",
          "name": "stdout",
          "text": [
            "Tokenized review:\n",
            " ['love', 'love', 'love', 'this', 'jumpsuit', \"it's\", 'fun', 'flirty', 'and', 'fabulous', 'every', 'time', 'wear', 'it', 'get', 'nothing', 'but', 'great', 'compliments']\n"
          ]
        }
      ],
      "source": [
        "print(\"Tokenized review:\\n\",tk_reviews[1])"
      ]
    },
    {
      "cell_type": "code",
      "execution_count": null,
      "metadata": {
        "colab": {
          "base_uri": "https://localhost:8080/"
        },
        "id": "AFFka9rBbvQI",
        "outputId": "201be512-90aa-401b-ecaf-8e068c95e811"
      },
      "outputs": [
        {
          "output_type": "stream",
          "name": "stdout",
          "text": [
            "Vocabulary size:  14780\n",
            "Total number of tokens:  1109634\n",
            "Lexical diversity:  0.013319707218776641\n",
            "Total number of reviews: 19662\n",
            "Average review length: 56.43545926151968\n",
            "Maximun review length: 104\n",
            "Minimun review length: 2\n",
            "Standard deviation of review length: 25.39546596696992\n"
          ]
        }
      ],
      "source": [
        "stats_print(tk_reviews)"
      ]
    },
    {
      "cell_type": "markdown",
      "source": [
        "### **Step 5: Remove stopwords**"
      ],
      "metadata": {
        "id": "Iio3i1ZKci68"
      }
    },
    {
      "cell_type": "code",
      "execution_count": null,
      "metadata": {
        "id": "Eqc7uSHEbvQI"
      },
      "outputs": [],
      "source": [
        "with open('stopwords_en.txt', 'r') as f:\n",
        "    stopwords = set(f.read().splitlines())"
      ]
    },
    {
      "cell_type": "code",
      "execution_count": null,
      "metadata": {
        "id": "RcZ3eFb_bvQI"
      },
      "outputs": [],
      "source": [
        "# filter out stop words\n",
        "tk_reviews = [[w for w in review if w not in stopwords] for review in tk_reviews]"
      ]
    },
    {
      "cell_type": "code",
      "execution_count": null,
      "metadata": {
        "colab": {
          "base_uri": "https://localhost:8080/"
        },
        "id": "aVR_9kQIbvQI",
        "outputId": "f591b9c1-d03a-4850-f84a-44d15828a45a"
      },
      "outputs": [
        {
          "output_type": "stream",
          "name": "stdout",
          "text": [
            "Vocabulary size:  14283\n",
            "Total number of tokens:  452692\n",
            "Lexical diversity:  0.031551253390826435\n",
            "Total number of reviews: 19662\n",
            "Average review length: 23.023700539110976\n",
            "Maximun review length: 51\n",
            "Minimun review length: 1\n",
            "Standard deviation of review length: 10.165913222944233\n"
          ]
        }
      ],
      "source": [
        "stats_print(tk_reviews)"
      ]
    },
    {
      "cell_type": "markdown",
      "source": [
        "### **Step 6: Remove the word that appears only once**"
      ],
      "metadata": {
        "id": "tzcNqwFGcnOH"
      }
    },
    {
      "cell_type": "code",
      "execution_count": null,
      "metadata": {
        "id": "jcriDCY3bvQI"
      },
      "outputs": [],
      "source": [
        "# Count word frequencies across all documents\n",
        "word_freq = Counter([word for review in tk_reviews for word in review])"
      ]
    },
    {
      "cell_type": "code",
      "execution_count": null,
      "metadata": {
        "id": "5Oiml1FlbvQI"
      },
      "outputs": [],
      "source": [
        "# Words that are removed\n",
        "single_words = [[word for word in review if word_freq[word] <= 1] for review in tk_reviews]"
      ]
    },
    {
      "cell_type": "code",
      "execution_count": null,
      "metadata": {
        "colab": {
          "base_uri": "https://localhost:8080/"
        },
        "id": "5fSIxXT7bvQJ",
        "outputId": "7f677517-449a-4123-b9b4-8220943d71c2"
      },
      "outputs": [
        {
          "output_type": "execute_result",
          "data": {
            "text/plain": [
              "[[],\n",
              " [],\n",
              " ['narrowing'],\n",
              " ['aded',\n",
              "  'mintue',\n",
              "  'darkler',\n",
              "  'mathced',\n",
              "  'everythiing',\n",
              "  'msallet',\n",
              "  'jkeep',\n",
              "  'matvehd',\n",
              "  'waas']]"
            ]
          },
          "metadata": {},
          "execution_count": 25
        }
      ],
      "source": [
        "single_words[1:5]"
      ]
    },
    {
      "cell_type": "code",
      "execution_count": null,
      "metadata": {
        "id": "Dl2VvJpubvQJ"
      },
      "outputs": [],
      "source": [
        "# Remove words that appear only once\n",
        "tk_reviews = [[word for word in review if word_freq[word] > 1] for review in tk_reviews]"
      ]
    },
    {
      "cell_type": "code",
      "execution_count": null,
      "metadata": {
        "colab": {
          "base_uri": "https://localhost:8080/"
        },
        "id": "8HGlERMcbvQJ",
        "outputId": "9d6f5d7c-6f34-442d-bf7d-920f08cbffcc"
      },
      "outputs": [
        {
          "output_type": "stream",
          "name": "stdout",
          "text": [
            "Vocabulary size:  7549\n",
            "Total number of tokens:  445958\n",
            "Lexical diversity:  0.016927603047820646\n",
            "Total number of reviews: 19662\n",
            "Average review length: 22.681212491099583\n",
            "Maximun review length: 51\n",
            "Minimun review length: 1\n",
            "Standard deviation of review length: 9.958115518909024\n"
          ]
        }
      ],
      "source": [
        "stats_print(tk_reviews)"
      ]
    },
    {
      "cell_type": "markdown",
      "source": [
        "### **Step 7: Remove the top 20 most frequent words based on document frequency.**"
      ],
      "metadata": {
        "id": "XaByWVghcrw8"
      }
    },
    {
      "cell_type": "code",
      "execution_count": null,
      "metadata": {
        "colab": {
          "base_uri": "https://localhost:8080/"
        },
        "id": "F0DfAGwLbvQJ",
        "outputId": "a833f53e-e8fc-404f-ed24-7b29b3408a82"
      },
      "outputs": [
        {
          "output_type": "execute_result",
          "data": {
            "text/plain": [
              "[('love', 6416),\n",
              " ('size', 5888),\n",
              " ('fit', 5537),\n",
              " ('dress', 5346),\n",
              " ('wear', 4900),\n",
              " ('top', 4670),\n",
              " ('great', 4497),\n",
              " ('fabric', 3712),\n",
              " ('color', 3604),\n",
              " ('small', 3265),\n",
              " ('ordered', 3099),\n",
              " ('perfect', 2973),\n",
              " ('flattering', 2939),\n",
              " ('soft', 2805),\n",
              " ('comfortable', 2597),\n",
              " ('back', 2538),\n",
              " ('cute', 2398),\n",
              " ('fits', 2394),\n",
              " ('nice', 2393),\n",
              " ('bought', 2376)]"
            ]
          },
          "metadata": {},
          "execution_count": 28
        }
      ],
      "source": [
        "words_doc = list(chain.from_iterable([set(review) for review in tk_reviews]))\n",
        "doc_fd = FreqDist(words_doc)\n",
        "doc_fd.most_common(20)"
      ]
    },
    {
      "cell_type": "code",
      "execution_count": null,
      "metadata": {
        "id": "LCMyE47vbvQJ"
      },
      "outputs": [],
      "source": [
        "top_20 = set([word for word, _ in doc_fd.most_common(20)])"
      ]
    },
    {
      "cell_type": "code",
      "execution_count": null,
      "metadata": {
        "id": "Qqeofk6IbvQN"
      },
      "outputs": [],
      "source": [
        "tk_reviews = [[word for word in review if word not in top_20] for review in tk_reviews]"
      ]
    },
    {
      "cell_type": "code",
      "execution_count": null,
      "metadata": {
        "colab": {
          "base_uri": "https://localhost:8080/"
        },
        "id": "dC-rXOTPbvQN",
        "outputId": "f76662d0-5263-4b1a-913e-76b6e2de9b68"
      },
      "outputs": [
        {
          "output_type": "stream",
          "name": "stdout",
          "text": [
            "Vocabulary size:  7529\n",
            "Total number of tokens:  355505\n",
            "Lexical diversity:  0.021178323792914306\n",
            "Total number of reviews: 19662\n",
            "Average review length: 18.080815786796865\n",
            "Maximun review length: 47\n",
            "Minimun review length: 0\n",
            "Standard deviation of review length: 8.833524535391433\n"
          ]
        }
      ],
      "source": [
        "stats_print(tk_reviews)"
      ]
    },
    {
      "cell_type": "code",
      "execution_count": null,
      "metadata": {
        "colab": {
          "base_uri": "https://localhost:8080/"
        },
        "id": "GTfDSRLJbvQN",
        "outputId": "453f0805-bdb3-445e-f8c6-86a5133cfa76"
      },
      "outputs": [
        {
          "output_type": "execute_result",
          "data": {
            "text/plain": [
              "['jumpsuit', 'fun', 'flirty', 'fabulous', 'time', 'compliments']"
            ]
          },
          "metadata": {},
          "execution_count": 32
        }
      ],
      "source": [
        "tk_reviews[1]"
      ]
    },
    {
      "cell_type": "markdown",
      "metadata": {
        "id": "WiAJztFRbvQN"
      },
      "source": [
        "## Saving required outputs\n",
        "Save the requested information as per specification.\n",
        "- vocab.txt"
      ]
    },
    {
      "cell_type": "code",
      "execution_count": null,
      "metadata": {
        "id": "ABBoqG49bvQN"
      },
      "outputs": [],
      "source": [
        "# Create vocabulary\n",
        "vocab = sorted(set([word for review in tk_reviews for word in review]))"
      ]
    },
    {
      "cell_type": "code",
      "execution_count": null,
      "metadata": {
        "id": "yj7Mil-ibvQN"
      },
      "outputs": [],
      "source": [
        "# Save vocabulary\n",
        "with open('vocab.txt', 'w') as f:\n",
        "    for i, word in enumerate(vocab):\n",
        "        f.write(f\"{word}:{i}\\n\")"
      ]
    },
    {
      "cell_type": "code",
      "execution_count": null,
      "metadata": {
        "id": "gkScn4BwbvQN"
      },
      "outputs": [],
      "source": [
        "data['Processed_Review'] = [' '.join(review) for review in tk_reviews]"
      ]
    },
    {
      "cell_type": "code",
      "execution_count": null,
      "metadata": {
        "id": "fZP3UIwwbvQN"
      },
      "outputs": [],
      "source": [
        "# Save processed data\n",
        "data.to_csv('processed.csv', index=False, quoting=csv.QUOTE_ALL)"
      ]
    },
    {
      "cell_type": "markdown",
      "metadata": {
        "id": "-nknviFQbvQO"
      },
      "source": [
        "## Summary\n",
        "I have preprocessed all the reviews as per the requirement. I have used the libraries used in the class for the preprocessing. I have used the library Counter to count the term frequency"
      ]
    },
    {
      "cell_type": "code",
      "source": [],
      "metadata": {
        "id": "C5460GrCdCPE"
      },
      "execution_count": null,
      "outputs": []
    }
  ],
  "metadata": {
    "kernelspec": {
      "display_name": "Python 3 (ipykernel)",
      "language": "python",
      "name": "python3"
    },
    "language_info": {
      "codemirror_mode": {
        "name": "ipython",
        "version": 3
      },
      "file_extension": ".py",
      "mimetype": "text/x-python",
      "name": "python",
      "nbconvert_exporter": "python",
      "pygments_lexer": "ipython3",
      "version": "3.12.4"
    },
    "colab": {
      "provenance": []
    }
  },
  "nbformat": 4,
  "nbformat_minor": 0
}